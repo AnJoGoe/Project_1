{
 "cells": [
  {
   "cell_type": "markdown",
   "id": "17ce0840-d69a-4495-8739-7101f08c2d05",
   "metadata": {},
   "source": [
    "# 1. Imports & functions"
   ]
  },
  {
   "cell_type": "markdown",
   "id": "096a60a0-c608-4f45-81fd-4a5fb7e1f592",
   "metadata": {},
   "source": [
    "#### 1.1 Imports"
   ]
  },
  {
   "cell_type": "code",
   "execution_count": null,
   "id": "4a9ede21-eebf-4100-942d-3536ff963a66",
   "metadata": {},
   "outputs": [],
   "source": [
    "# Data Wrangling\n",
    "import pandas as pd\n",
    "import numpy as np \n",
    "\n",
    "# Data Visualization\n",
    "import matplotlib.pyplot as plt\n",
    "import seaborn as sns\n"
   ]
  },
  {
   "cell_type": "code",
   "execution_count": null,
   "id": "e1ccf0d0-757b-4dc7-9f6e-2b9fa98b5180",
   "metadata": {},
   "outputs": [],
   "source": []
  },
  {
   "cell_type": "markdown",
   "id": "0fd53277-f0a9-40d7-ae2a-0b72474e4522",
   "metadata": {},
   "source": [
    "#### 1.2 Functions"
   ]
  },
  {
   "cell_type": "code",
   "execution_count": null,
   "id": "ce3f27a2-3aba-444f-80cd-b2f4f9d93f43",
   "metadata": {},
   "outputs": [],
   "source": [
    "# Create New Columns for identifying different guest types\n",
    "def map_guest_type (row):\n",
    "    if row[\"adults\"] == 1 and row[\"children\"] == 0 and row[\"babies\"] == 0:\n",
    "        return \"Single\"\n",
    "    elif row[\"adults\"] == 2 and row[\"children\"] == 0 and row[\"babies\"] == 0:\n",
    "        return \"Couple\"\n",
    "    elif (row[\"adults\"] == 2 or row[\"adults\"] == 1) and (row[\"children\"] > 0 or row[\"babies\"] > 0):\n",
    "        return \"Family\"\n",
    "    elif row[\"adults\"] > 2:\n",
    "        return \"Group\"\n",
    "    else:\n",
    "        return \"Other\"\n",
    "        \n",
    "        "
   ]
  },
  {
   "cell_type": "code",
   "execution_count": null,
   "id": "49bad77c-8635-4efa-a39d-aa7b9f2201d5",
   "metadata": {},
   "outputs": [],
   "source": []
  },
  {
   "cell_type": "markdown",
   "id": "9ccaa574-243d-4c0a-a42e-ae8befae3001",
   "metadata": {},
   "source": [
    "# 2. Load Data"
   ]
  },
  {
   "cell_type": "code",
   "execution_count": null,
   "id": "7747af61-9e51-4f16-88d2-79f969f6975d",
   "metadata": {},
   "outputs": [],
   "source": [
    "pwd"
   ]
  },
  {
   "cell_type": "code",
   "execution_count": null,
   "id": "f0bf2e93-0658-4f9e-b242-06762855eee4",
   "metadata": {},
   "outputs": [],
   "source": [
    "!dir data\\\\raw"
   ]
  },
  {
   "cell_type": "code",
   "execution_count": null,
   "id": "869fd228-0861-49ec-b9e6-9e44e2ffdcf7",
   "metadata": {},
   "outputs": [],
   "source": [
    "df = pd.read_csv(\"../data/raw/hotel_bookings.csv\")"
   ]
  },
  {
   "cell_type": "code",
   "execution_count": null,
   "id": "77836b60-8d83-4a55-91df-0ce59d6bbe4d",
   "metadata": {},
   "outputs": [],
   "source": []
  },
  {
   "cell_type": "code",
   "execution_count": null,
   "id": "3a7f91fb-68e7-40b4-b661-c24c457c7fd4",
   "metadata": {},
   "outputs": [],
   "source": []
  },
  {
   "cell_type": "markdown",
   "id": "a2fbd4eb-7fe3-48f4-88ca-20e059301d61",
   "metadata": {},
   "source": [
    "# 2. DATA OVERVIEW"
   ]
  },
  {
   "cell_type": "code",
   "execution_count": null,
   "id": "af1fa9b5-d4c3-49ac-be09-795f9ccb4587",
   "metadata": {},
   "outputs": [],
   "source": [
    "pd.options.display.max_columns = None # show all columns\n",
    "df.head()"
   ]
  },
  {
   "cell_type": "code",
   "execution_count": null,
   "id": "a181f0c1-fd4a-40d1-bddd-580d65bdf1b5",
   "metadata": {},
   "outputs": [],
   "source": [
    "df.columns"
   ]
  },
  {
   "cell_type": "code",
   "execution_count": null,
   "id": "622550d6-b1df-421c-97d8-17d1256e2047",
   "metadata": {},
   "outputs": [],
   "source": []
  },
  {
   "cell_type": "code",
   "execution_count": null,
   "id": "3cba8bab-d3db-4b6d-92c2-fce788f492c9",
   "metadata": {},
   "outputs": [],
   "source": []
  },
  {
   "cell_type": "code",
   "execution_count": null,
   "id": "d46ff972-a9f8-4315-b7e8-e5bc25cb60d2",
   "metadata": {},
   "outputs": [],
   "source": [
    "df.shape"
   ]
  },
  {
   "cell_type": "code",
   "execution_count": null,
   "id": "191b2af8-9cdb-43ea-96cc-27cc5a78309b",
   "metadata": {},
   "outputs": [],
   "source": [
    "df.info()"
   ]
  },
  {
   "cell_type": "code",
   "execution_count": null,
   "id": "db01f68e-c4dc-4d39-8950-91a4e32c832f",
   "metadata": {},
   "outputs": [],
   "source": [
    "df[\"reserved_room_type\"].unique()"
   ]
  },
  {
   "cell_type": "code",
   "execution_count": null,
   "id": "1087667c-1ba1-4daa-9318-6b7a8fcbf63d",
   "metadata": {},
   "outputs": [],
   "source": []
  },
  {
   "cell_type": "code",
   "execution_count": null,
   "id": "1f0a9115-3788-4a1d-b077-b6dc0f3fa494",
   "metadata": {},
   "outputs": [],
   "source": []
  },
  {
   "cell_type": "markdown",
   "id": "22efca9d-67b2-4ef6-8025-08265de1ced4",
   "metadata": {},
   "source": [
    "#### 2.1 Overview - Missing Values"
   ]
  },
  {
   "cell_type": "code",
   "execution_count": null,
   "id": "94b40f9d-7e7f-40e9-9ab0-5230cabb128d",
   "metadata": {},
   "outputs": [],
   "source": [
    "missing_values = df.isna().sum()\n",
    "missing_values = missing_values[missing_values > 0]\n",
    "missing_values"
   ]
  },
  {
   "cell_type": "code",
   "execution_count": null,
   "id": "23ccc782-d28b-4ff4-85b6-856a8e0a34c1",
   "metadata": {},
   "outputs": [],
   "source": []
  },
  {
   "cell_type": "markdown",
   "id": "8814e99d-3dcb-4d97-8840-d0d12ef8ff7e",
   "metadata": {},
   "source": [
    "#### 2.2 Overview - Unique Values"
   ]
  },
  {
   "cell_type": "code",
   "execution_count": null,
   "id": "da14b607-f7fb-47d8-994c-2e1fc923c714",
   "metadata": {},
   "outputs": [],
   "source": [
    "df.nunique()"
   ]
  },
  {
   "cell_type": "code",
   "execution_count": null,
   "id": "18143b8f-e95c-4060-995d-5b33a4804b87",
   "metadata": {},
   "outputs": [],
   "source": []
  },
  {
   "cell_type": "markdown",
   "id": "6756185e-98fc-49a6-b2fe-21a7b8bd7ab5",
   "metadata": {},
   "source": [
    "#### 2.3 Overview _ Primary visualizations - Guest Type"
   ]
  },
  {
   "cell_type": "code",
   "execution_count": null,
   "id": "b514c53e-07b3-47b4-a3c2-0b82d04adede",
   "metadata": {},
   "outputs": [],
   "source": [
    "df_viz = df.copy()"
   ]
  },
  {
   "cell_type": "code",
   "execution_count": null,
   "id": "4e448bd9-5918-41c5-b18a-9d216810ca8a",
   "metadata": {},
   "outputs": [],
   "source": [
    "df_viz.fillna(0, inplace=True)"
   ]
  },
  {
   "cell_type": "code",
   "execution_count": null,
   "id": "43463826-ed30-4ed1-9208-d135399c60f1",
   "metadata": {},
   "outputs": [],
   "source": [
    "df_viz[\"guest_type\"] = df_viz.apply(map_guest_type, axis=1)"
   ]
  },
  {
   "cell_type": "code",
   "execution_count": null,
   "id": "b71cea09-9596-4c52-a4d9-47083a0ada88",
   "metadata": {},
   "outputs": [],
   "source": [
    "guest_type_count = df_viz['guest_type'].value_counts()\n",
    "guest_type_count"
   ]
  },
  {
   "cell_type": "code",
   "execution_count": null,
   "id": "194ea2a4-4ba0-4c90-adce-8a360cd8d092",
   "metadata": {},
   "outputs": [],
   "source": [
    "guest_type_count.index"
   ]
  },
  {
   "cell_type": "code",
   "execution_count": null,
   "id": "977959ac-a727-4223-bcf3-355ef9232391",
   "metadata": {},
   "outputs": [],
   "source": [
    "# Pie Plot (https://matplotlib.org/stable/api/_as_gen/matplotlib.pyplot.pie.html)\n",
    "colors = ['#007acc', '#f48024', '#4caf50', '#d32f2f', '#8e44ad'] # sliceshttps://matplotlib.org/stable/gallery/pie_and_polar_charts/pie_features.html#sphx-glr-gallery-pie-and-polar-charts-pie-features-py\n",
    "\n",
    "plt.figure(figsize=(8, 8))\n",
    "plt.pie(guest_type_count, labels=guest_type_count.index, colors=colors, autopct='%1.1f%%', startangle=140) # percentage using autopct: https://stackoverflow.com/questions/6170246/how-do-i-use-matplotlib-autopct\n",
    "plt.title(\"Distribution of the different Guest Types\")\n",
    "\n",
    "plt.savefig('../resources/pie_guest_type.png') \n",
    "\n",
    "plt.show"
   ]
  },
  {
   "cell_type": "code",
   "execution_count": null,
   "id": "584d5174-522d-494e-b9d1-5db90721c4dd",
   "metadata": {},
   "outputs": [],
   "source": []
  },
  {
   "cell_type": "code",
   "execution_count": null,
   "id": "84bd20c2-eb88-49c3-9576-b08286d1ad54",
   "metadata": {},
   "outputs": [],
   "source": []
  },
  {
   "cell_type": "code",
   "execution_count": null,
   "id": "a10f3125-6079-4ef1-80e9-a724b1f33de1",
   "metadata": {},
   "outputs": [],
   "source": []
  },
  {
   "cell_type": "markdown",
   "id": "24d78795-5f68-45bb-acc7-846299922402",
   "metadata": {
    "jp-MarkdownHeadingCollapsed": true
   },
   "source": [
    "# 3. DESCRIPTIVE ANALYSIS "
   ]
  },
  {
   "cell_type": "code",
   "execution_count": null,
   "id": "a0c42dd2-19fe-465a-85b3-4b6775f861de",
   "metadata": {},
   "outputs": [],
   "source": [
    "df.describe()"
   ]
  },
  {
   "cell_type": "code",
   "execution_count": null,
   "id": "ad4f8a1e-9d8e-4f4c-9bc0-378f31d3f0da",
   "metadata": {},
   "outputs": [],
   "source": []
  },
  {
   "cell_type": "code",
   "execution_count": null,
   "id": "349be89a-b0e7-4b98-ab52-5d3de614bafc",
   "metadata": {},
   "outputs": [],
   "source": []
  },
  {
   "cell_type": "code",
   "execution_count": null,
   "id": "19ba0bdb-75eb-49af-a14a-1bcaf4109ae5",
   "metadata": {},
   "outputs": [],
   "source": []
  },
  {
   "cell_type": "markdown",
   "id": "6fc7fe1b-ec68-4e6a-a660-2c0d51e90657",
   "metadata": {},
   "source": [
    "# 4. DATA CLEANING"
   ]
  },
  {
   "cell_type": "markdown",
   "id": "9552f2d0-e403-4fd6-bbde-9bf82f02aec2",
   "metadata": {},
   "source": [
    "#### 4.1 DATA CLEANING - DROP COLUMNS\n",
    "Drop Columns not required for analysis"
   ]
  },
  {
   "cell_type": "code",
   "execution_count": null,
   "id": "fe70a8d0-ce27-4b36-b04f-d74b4923b1af",
   "metadata": {},
   "outputs": [],
   "source": [
    "df_clean = df.copy()"
   ]
  },
  {
   "cell_type": "code",
   "execution_count": null,
   "id": "0c9447ce-da83-4736-885b-45950e2a17d4",
   "metadata": {
    "scrolled": true
   },
   "outputs": [],
   "source": [
    "df_clean.columns"
   ]
  },
  {
   "cell_type": "code",
   "execution_count": null,
   "id": "d1006587-77e6-4d9d-b817-8f8e91d38818",
   "metadata": {},
   "outputs": [],
   "source": [
    "# Columns to drop\n",
    "\n",
    "columns_drop_list = ['arrival_date_year',\n",
    "                    'stays_in_weekend_nights',\n",
    "                     'stays_in_week_nights',\n",
    "                     'country',\n",
    "                     'distribution_channel' , \n",
    "                     'distribution_channel' ,\n",
    "                     'is_repeated_guest' ,\n",
    "                     'previous_cancellations' ,\n",
    "                     'previous_bookings_not_canceled' ,\n",
    "                     'booking_changes' ,\n",
    "                     'deposit_type' ,\n",
    "                     'agent' ,\n",
    "                     'company' ,\n",
    "                     'customer_type' ,\n",
    "                     'required_car_parking_spaces' ,\n",
    "                     'reservation_status' ,\n",
    "                     'reservation_status_date']"
   ]
  },
  {
   "cell_type": "code",
   "execution_count": null,
   "id": "21282655-6046-4fd6-a9ae-181a3b63e9ea",
   "metadata": {},
   "outputs": [],
   "source": [
    "# Drop Columns\n",
    "df_clean.drop(columns=columns_drop_list, inplace=True)"
   ]
  },
  {
   "cell_type": "code",
   "execution_count": null,
   "id": "b2c9a198-1765-493a-810b-08e9f2014d86",
   "metadata": {},
   "outputs": [],
   "source": [
    "display(\"n-col-original: \", df.shape[1], \"n-col-drop: \", df_clean.shape[1] )"
   ]
  },
  {
   "cell_type": "code",
   "execution_count": null,
   "id": "636c616e-df9a-4d4b-aff5-30453dc1b090",
   "metadata": {},
   "outputs": [],
   "source": [
    "df_clean.head()"
   ]
  },
  {
   "cell_type": "code",
   "execution_count": null,
   "id": "c9c33ed0-dec4-4956-8cc8-114442404445",
   "metadata": {},
   "outputs": [],
   "source": []
  },
  {
   "cell_type": "code",
   "execution_count": null,
   "id": "1efa3c92-c647-47ec-a567-499bf055d1b4",
   "metadata": {},
   "outputs": [],
   "source": []
  },
  {
   "cell_type": "markdown",
   "id": "f85bbf7d-05e7-4938-a791-5ad2ca805110",
   "metadata": {},
   "source": [
    "#### 4.1 DATA CLEANING - Handle Missing Values\n",
    "Deal with mssing values"
   ]
  },
  {
   "cell_type": "code",
   "execution_count": null,
   "id": "11a7e337-25ff-476c-abe2-af1176fec477",
   "metadata": {},
   "outputs": [],
   "source": [
    "missing_values = df_clean.isna().sum()\n",
    "missing_values = missing_values[missing_values > 0]\n",
    "missing_values"
   ]
  },
  {
   "cell_type": "code",
   "execution_count": null,
   "id": "ae4c0e45-b5d5-483c-8351-9adffe79ca20",
   "metadata": {},
   "outputs": [],
   "source": [
    "df_clean[\"adults\"].unique()"
   ]
  },
  {
   "cell_type": "markdown",
   "id": "7f1c9365-3c28-4cfb-8600-26d42da5c825",
   "metadata": {},
   "source": [
    "<b style=\"color:red\">Missing Value Strategy</b>\n",
    "- Get the rows where adults equals two (identify potential parents)\n",
    "- get mode of children for the parent group\n",
    "- Replace missing values in children column with the mode calculated for the parent group"
   ]
  },
  {
   "cell_type": "code",
   "execution_count": null,
   "id": "82ee7d68-4ccf-4fc0-9b28-3f978e1367a5",
   "metadata": {},
   "outputs": [],
   "source": [
    "# Check values -> one could already replaces the missing values with 0.0 (why is inter dsplayed as float?)\n",
    "df_clean[df_clean[\"adults\"] >= 2][\"children\"].value_counts()"
   ]
  },
  {
   "cell_type": "code",
   "execution_count": null,
   "id": "62b50a77-9776-4aa7-a413-bac546f1852c",
   "metadata": {},
   "outputs": [],
   "source": [
    "# get mode\n",
    "adult_children_mode = df_clean[df_clean[\"adults\"] >= 2].groupby(\"adults\")[\"children\"].agg(lambda x: x.mode()[0])\n",
    "adult_children_mode"
   ]
  },
  {
   "cell_type": "code",
   "execution_count": null,
   "id": "8bcb9015-399e-4522-9a9e-b5ae0df37000",
   "metadata": {},
   "outputs": [],
   "source": [
    "# map the value of missing values in df_clean children where it maps to the adults columnd in adult_children_mode\n",
    "missing_children_replace = pd.merge(df_clean[df_clean[\"children\"].isna()], adult_children_mode, left_on=\"adults\", right_index=True, suffixes=('', '_mode'))\n"
   ]
  },
  {
   "cell_type": "code",
   "execution_count": null,
   "id": "b7ede3df-e8e7-41c6-8514-a285b51d096d",
   "metadata": {},
   "outputs": [],
   "source": [
    "missing_children_replace"
   ]
  },
  {
   "cell_type": "code",
   "execution_count": null,
   "id": "5491c69d-4c49-4c48-b18e-cf6a37e93c11",
   "metadata": {},
   "outputs": [],
   "source": [
    "df_clean.loc[df_clean[df_clean[\"children\"].isna()].index, \"children\"] = missing_children_replace[\"children_mode\"]"
   ]
  },
  {
   "cell_type": "code",
   "execution_count": null,
   "id": "d2b63534-aa3f-415f-b543-62e61b796485",
   "metadata": {
    "scrolled": true
   },
   "outputs": [],
   "source": [
    "df_clean.isna().sum()"
   ]
  },
  {
   "cell_type": "code",
   "execution_count": null,
   "id": "46336889-37a3-49a9-aad8-09e419656ccd",
   "metadata": {},
   "outputs": [],
   "source": []
  },
  {
   "cell_type": "code",
   "execution_count": null,
   "id": "8b34066c-ffe8-49a9-90e4-ba68b4954741",
   "metadata": {},
   "outputs": [],
   "source": []
  },
  {
   "cell_type": "markdown",
   "id": "b78b4485-f51a-4767-9d63-af2c0f022a20",
   "metadata": {},
   "source": [
    "#### 4.2 ADD GUEST TYPE COLUMN column\n",
    "Add guest_type column to identify different guest types (e.g. single, family, etc.)"
   ]
  },
  {
   "cell_type": "code",
   "execution_count": null,
   "id": "6418e260-6cde-461b-93ab-c081c317ddb5",
   "metadata": {},
   "outputs": [],
   "source": [
    "df_clean[\"guest_type\"] = df_clean.apply(map_guest_type, axis=1)"
   ]
  },
  {
   "cell_type": "code",
   "execution_count": null,
   "id": "c1119113-15fe-45dd-81f7-d5c5cdd0ee55",
   "metadata": {},
   "outputs": [],
   "source": [
    "df_clean[\"guest_type\"].value_counts()"
   ]
  },
  {
   "cell_type": "code",
   "execution_count": null,
   "id": "eba336c6-70da-4380-bb46-d8fe0701cc34",
   "metadata": {},
   "outputs": [],
   "source": [
    "display(\"n-col-original: \", df.shape[1], \"n-col-drop: \", df_clean.shape[1] )"
   ]
  },
  {
   "cell_type": "code",
   "execution_count": null,
   "id": "2ee44040-114e-44c0-8a6b-b6c99b149a46",
   "metadata": {},
   "outputs": [],
   "source": []
  },
  {
   "cell_type": "code",
   "execution_count": null,
   "id": "7448fc32-167d-482b-b826-b058aaa9ff83",
   "metadata": {},
   "outputs": [],
   "source": []
  },
  {
   "cell_type": "markdown",
   "id": "66e81651-24f0-42f0-8e19-1730c0aae80a",
   "metadata": {},
   "source": [
    "#### 4.3 Check Guest Type \"Others\""
   ]
  },
  {
   "cell_type": "code",
   "execution_count": null,
   "id": "ba38833c-2834-4741-bef9-4529ca08bac8",
   "metadata": {},
   "outputs": [],
   "source": [
    "df_clean[\"adults\"][df_clean[\"guest_type\"] == \"Other\"].value_counts()"
   ]
  },
  {
   "cell_type": "code",
   "execution_count": null,
   "id": "22db9acb-426f-46c8-bdaf-2c57515504f9",
   "metadata": {},
   "outputs": [],
   "source": [
    "df_clean[\"children\"][df_clean[\"guest_type\"] == \"Other\"].value_counts()"
   ]
  },
  {
   "cell_type": "code",
   "execution_count": null,
   "id": "2f4987fe-75b2-4c56-bd46-b1b6b720fac6",
   "metadata": {},
   "outputs": [],
   "source": [
    "df_clean[\"babies\"][df_clean[\"guest_type\"] == \"Other\"].value_counts()"
   ]
  },
  {
   "cell_type": "markdown",
   "id": "9855ed95-c092-4acc-bb7b-c82d09c2e789",
   "metadata": {},
   "source": [
    "<b style=\"color:red\">\"Others\" Strategy</b>\n",
    "- Get the most frequent value for Adults where Adult is not 0 and children or baby < 0\n",
    "- Replace the adult value where the adult is 0 and the child or baby is not 0 with the mode value for adults (Assumption: no child or baby stays alone in a hotel -> if there is a child or baby -> there must be an adult)\n",
    "- Drop remaining rows containing \"Other\" (adult=0, children=0, babies=0)"
   ]
  },
  {
   "cell_type": "code",
   "execution_count": null,
   "id": "7af51c2d-afa5-4f80-a9e3-5de2958aab73",
   "metadata": {},
   "outputs": [],
   "source": [
    "# Get the most frequent value for Adults where Adult is not 0 and children or baby < 0\n",
    "adult_with_kids_mode = df_clean[\"adults\"][df_clean[\"adults\"]!=0 & ((df_clean[\"children\"] > 0) | (df_clean[\"babies\"] > 0))].mode()[0]\n",
    "adult_with_kids_mode"
   ]
  },
  {
   "cell_type": "code",
   "execution_count": null,
   "id": "280183a7-7f08-4ff6-9827-54a5117ec4e4",
   "metadata": {},
   "outputs": [],
   "source": [
    "indices = (df_clean[\"adults\"]==0) & ((df_clean[\"children\"] > 0.0) | (df_clean[\"babies\"] > 0))\n",
    "indices.unique()"
   ]
  },
  {
   "cell_type": "code",
   "execution_count": null,
   "id": "e181d86f-6d9c-40e8-ab66-2cfd781deecc",
   "metadata": {},
   "outputs": [],
   "source": [
    "# Replace the adulte value where the adult is 0 and the kid or babie is not 0 with the adult_with_kids_mode var\n",
    "df_clean.loc[indices, \"adults\"] = adult_with_kids_mode\n",
    "df_clean[\"adults\"][df_clean[\"adults\"]!=0 & ((df_clean[\"children\"] > 0) | (df_clean[\"babies\"] > 0))]"
   ]
  },
  {
   "cell_type": "code",
   "execution_count": null,
   "id": "5b1b3685-9c2f-4cef-a250-d0b0217e3d16",
   "metadata": {
    "scrolled": true
   },
   "outputs": [],
   "source": [
    "df_clean[\"adults\"][df_clean[\"guest_type\"]==\"Other\"]"
   ]
  },
  {
   "cell_type": "code",
   "execution_count": null,
   "id": "21ad3e33-2298-4844-b870-0fcd9eb6e5a6",
   "metadata": {},
   "outputs": [],
   "source": [
    "# Repeant Guest_type Mapping\n",
    "df_clean[\"guest_type\"] = df_clean.apply(map_guest_type, axis=1)"
   ]
  },
  {
   "cell_type": "code",
   "execution_count": null,
   "id": "dce31cf4-073f-4a27-96a0-19ab80085b74",
   "metadata": {},
   "outputs": [],
   "source": [
    "df_clean[\"guest_type\"].value_counts()"
   ]
  },
  {
   "cell_type": "code",
   "execution_count": null,
   "id": "628646a2-5ef2-48c5-84ab-47eac5fd4bb3",
   "metadata": {},
   "outputs": [],
   "source": [
    "df_clean[df_clean[\"guest_type\"]==\"Other\"].head()"
   ]
  },
  {
   "cell_type": "code",
   "execution_count": null,
   "id": "cbff8dfa-b9e3-4693-a38d-63a8d6c854f6",
   "metadata": {},
   "outputs": [],
   "source": []
  },
  {
   "cell_type": "markdown",
   "id": "e3a0a60b-d164-4fad-889a-d6fd5b44fbfa",
   "metadata": {},
   "source": [
    "**Update Guest Type Mapping**"
   ]
  },
  {
   "cell_type": "code",
   "execution_count": null,
   "id": "5cae215f-9a6a-4e05-ba34-9240338d6258",
   "metadata": {},
   "outputs": [],
   "source": [
    "df_clean[\"guest_type\"] = df_clean.apply(map_guest_type, axis=1)"
   ]
  },
  {
   "cell_type": "code",
   "execution_count": null,
   "id": "75328450-f4c0-43ad-a35b-edb9fbf09d66",
   "metadata": {
    "scrolled": true
   },
   "outputs": [],
   "source": [
    "df_clean[df_clean[\"guest_type\"]==\"Other\"]"
   ]
  },
  {
   "cell_type": "code",
   "execution_count": null,
   "id": "48142ac6-1929-473f-b616-b4598879f3e2",
   "metadata": {},
   "outputs": [],
   "source": []
  },
  {
   "cell_type": "code",
   "execution_count": null,
   "id": "1d489352-3ff3-4c5b-8a7c-bd8cd3487a6c",
   "metadata": {},
   "outputs": [],
   "source": []
  },
  {
   "cell_type": "markdown",
   "id": "e7e528b3-b73d-42c1-95c7-500f893b7566",
   "metadata": {},
   "source": [
    "**Drop Columns with remaining \"Other\" values**"
   ]
  },
  {
   "cell_type": "code",
   "execution_count": null,
   "id": "21c1c67b-6cda-44a5-a163-2a8ab33160b4",
   "metadata": {},
   "outputs": [],
   "source": [
    "df_clean.shape"
   ]
  },
  {
   "cell_type": "code",
   "execution_count": null,
   "id": "9fbedd19-bb3a-4f6c-bf38-959a624561fe",
   "metadata": {},
   "outputs": [],
   "source": [
    "df_clean = df_clean[df_clean[\"guest_type\"] != \"Other\"]"
   ]
  },
  {
   "cell_type": "code",
   "execution_count": null,
   "id": "1475cc24-d2e7-4c76-850b-5bc65f6f8c8c",
   "metadata": {},
   "outputs": [],
   "source": [
    "df_clean.shape"
   ]
  },
  {
   "cell_type": "code",
   "execution_count": null,
   "id": "f7584c53-318b-4a69-bd8d-f08166837f8b",
   "metadata": {},
   "outputs": [],
   "source": []
  },
  {
   "cell_type": "markdown",
   "id": "7a84025f-3cdf-4614-8434-6d20cea6c374",
   "metadata": {
    "jp-MarkdownHeadingCollapsed": true
   },
   "source": [
    "**Update Overview _ Primary visualizations - Guest Type**"
   ]
  },
  {
   "cell_type": "code",
   "execution_count": null,
   "id": "d70e2599-510e-49d3-a170-2437de761a62",
   "metadata": {},
   "outputs": [],
   "source": [
    "df_viz = df_clean.copy()"
   ]
  },
  {
   "cell_type": "code",
   "execution_count": null,
   "id": "887743a5-96de-4599-b6b2-e59fbdfde111",
   "metadata": {},
   "outputs": [],
   "source": [
    "df_viz[\"guest_type\"] = df_viz.apply(map_guest_type, axis=1)"
   ]
  },
  {
   "cell_type": "code",
   "execution_count": null,
   "id": "f7b8b770-7c63-45f6-b1d5-ae19f5113e4f",
   "metadata": {},
   "outputs": [],
   "source": [
    "guest_type_count = df_viz['guest_type'].value_counts()\n",
    "guest_type_count"
   ]
  },
  {
   "cell_type": "code",
   "execution_count": null,
   "id": "544b442c-f080-4957-a502-374dd0f5c075",
   "metadata": {},
   "outputs": [],
   "source": [
    "guest_type_count.index"
   ]
  },
  {
   "cell_type": "code",
   "execution_count": null,
   "id": "8cd3f7b4-18f4-41fb-9026-e135c5381761",
   "metadata": {},
   "outputs": [],
   "source": [
    "# Pie Plot (https://matplotlib.org/stable/api/_as_gen/matplotlib.pyplot.pie.html)\n",
    "colors = ['#007acc', '#f48024', '#4caf50', '#d32f2f', '#8e44ad'] # sliceshttps://matplotlib.org/stable/gallery/pie_and_polar_charts/pie_features.html#sphx-glr-gallery-pie-and-polar-charts-pie-features-py\n",
    "\n",
    "plt.figure(figsize=(8, 8))\n",
    "plt.pie(guest_type_count, labels=guest_type_count.index, colors=colors, autopct='%1.1f%%', startangle=140) # percentage using autopct: https://stackoverflow.com/questions/6170246/how-do-i-use-matplotlib-autopct\n",
    "plt.title(\"Distribution of the different Guest Types\")\n",
    "\n",
    "plt.savefig('../resources/pie_guest_type.png') \n",
    "\n",
    "plt.show"
   ]
  },
  {
   "cell_type": "code",
   "execution_count": null,
   "id": "b9a7e7da-4785-44ab-83f1-beccd3e020d4",
   "metadata": {},
   "outputs": [],
   "source": []
  },
  {
   "cell_type": "code",
   "execution_count": null,
   "id": "bb86c019-2bb6-4716-ac27-1c14a8783140",
   "metadata": {},
   "outputs": [],
   "source": []
  },
  {
   "cell_type": "markdown",
   "id": "e2f72a09-8f97-4067-be32-402f96d2ddeb",
   "metadata": {},
   "source": [
    "#### 4.4 CONVERT MONTH NAMES TO CORRESPONDING NUMERIC REPRESENTATION"
   ]
  },
  {
   "cell_type": "code",
   "execution_count": null,
   "id": "9362d0f6-e466-49b4-8dae-31756bbd875f",
   "metadata": {},
   "outputs": [],
   "source": [
    "#### 4.5 WRITE CLEANED DATASET TO FOLDER"
   ]
  },
  {
   "cell_type": "code",
   "execution_count": null,
   "id": "6912ddfb-d9af-4ef8-8bfa-ad53c6294d3b",
   "metadata": {},
   "outputs": [],
   "source": [
    "df_clean[\"arrival_date_month\"] = pd.to_datetime(df_clean[\"arrival_date_month\"], format=\"%B\").dt.strftime('%m') # https://www.geeksforgeeks.org/python-datetime-strptime-function/\n"
   ]
  },
  {
   "cell_type": "code",
   "execution_count": null,
   "id": "0e1801b8-c7e9-4f84-ba1c-db163aaa4497",
   "metadata": {},
   "outputs": [],
   "source": [
    "df_clean[\"arrival_date_month\"].unique()"
   ]
  },
  {
   "cell_type": "code",
   "execution_count": null,
   "id": "310f0a59-ec50-4994-b502-e6b134be7076",
   "metadata": {},
   "outputs": [],
   "source": []
  },
  {
   "cell_type": "code",
   "execution_count": null,
   "id": "4d690949-ec16-42ff-af0a-ac24cd0a04f0",
   "metadata": {},
   "outputs": [],
   "source": []
  },
  {
   "cell_type": "markdown",
   "id": "2d7e77f6-8b00-4937-a67c-fc23b8cdbf38",
   "metadata": {},
   "source": [
    "#### 4.5 WRITE CLEANED DATASET TO FOLDER"
   ]
  },
  {
   "cell_type": "code",
   "execution_count": null,
   "id": "df155629-92b0-4452-a733-b526a212ccf2",
   "metadata": {},
   "outputs": [],
   "source": [
    "df_clean.to_csv('../data/cleaned/hotel_bookings_cleaned.csv')"
   ]
  },
  {
   "cell_type": "code",
   "execution_count": null,
   "id": "67a8d278-aff7-4874-b4d9-439ede5beee1",
   "metadata": {},
   "outputs": [],
   "source": []
  },
  {
   "cell_type": "code",
   "execution_count": null,
   "id": "2f798010-afbd-44ab-88ee-6a60de984c07",
   "metadata": {},
   "outputs": [],
   "source": []
  },
  {
   "cell_type": "markdown",
   "id": "23123569-12b3-4d28-bbd4-47b78c325485",
   "metadata": {},
   "source": [
    "# 5.DATA INSIGHTS"
   ]
  },
  {
   "cell_type": "code",
   "execution_count": null,
   "id": "c2edbc73-15af-46de-8d54-3ad184d1cba9",
   "metadata": {},
   "outputs": [],
   "source": []
  },
  {
   "cell_type": "markdown",
   "id": "7c82624c-8d04-46e4-a1bc-56ae20e45ac0",
   "metadata": {},
   "source": [
    "#### 5.1 Peak Time of Hotel Bookings By Guest Type"
   ]
  },
  {
   "cell_type": "code",
   "execution_count": null,
   "id": "bb602675-b2fb-4cc6-9360-c8d981ba99a5",
   "metadata": {
    "scrolled": true
   },
   "outputs": [],
   "source": [
    "df_in = df_clean.copy()"
   ]
  },
  {
   "cell_type": "code",
   "execution_count": null,
   "id": "4bd99239-99aa-41b4-bb11-d683e66f3448",
   "metadata": {},
   "outputs": [],
   "source": [
    "df_in.columns"
   ]
  },
  {
   "cell_type": "code",
   "execution_count": null,
   "id": "c0e3ad55-56cb-450d-9338-7c3cb132d12d",
   "metadata": {},
   "outputs": [],
   "source": [
    "df_in[\"arrival_date_month\"].unique()"
   ]
  },
  {
   "cell_type": "code",
   "execution_count": null,
   "id": "a55af2ac-eba9-459d-91ae-54906e7f28c9",
   "metadata": {},
   "outputs": [],
   "source": [
    "# Count arrivals\n",
    "arrival_counts = df_in.groupby([\"arrival_date_month\", \"guest_type\"])[\"adults\"].count().unstack()\n",
    "arrival_counts"
   ]
  },
  {
   "cell_type": "code",
   "execution_count": null,
   "id": "be321cce-4aec-4bef-8198-7089b44e53d5",
   "metadata": {},
   "outputs": [],
   "source": [
    "colors = {\"Couple\": \"#007acc\", \n",
    "          \"Single\": \"#f48024\", \n",
    "          \"Family\": \"#4caf50\", \n",
    "          \"Group\": \"#d32f2f\", \n",
    "          \"Other\": \"#8e44ad\"}\n",
    "\n",
    "\n",
    "\n",
    "sns.set_style(\"whitegrid\")\n",
    "\n",
    "plt.figure(figsize=(10,6))\n",
    "sns.lineplot(data=arrival_counts, dashes=False, palette=colors)\n",
    "\n",
    "plt.title(\"Arrival of Different Guest Types Over Months\")\n",
    "plt.xlabel(\"Month\")\n",
    "plt.ylabel(\"Number of Arrivals\")\n",
    "\n",
    "plt.legend(title=\"Guest Type\")\n",
    "\n",
    "plt.savefig('../resources/arrival_by_guest_over_time.png') # Save as PNG Image to resources\n",
    "\n",
    "\n",
    "plt.show()"
   ]
  },
  {
   "cell_type": "code",
   "execution_count": null,
   "id": "f9efa170-c3e5-4fd0-b65f-2c74b009836c",
   "metadata": {
    "scrolled": true
   },
   "outputs": [],
   "source": [
    "# Normalize data\n",
    "# https://stackoverflow.com/questions/26414913/normalize-columns-of-a-dataframe\n",
    "arrival_counts_norm = (arrival_counts - arrival_counts.min()) / (arrival_counts.max() - arrival_counts.min())\n",
    "arrival_counts_norm"
   ]
  },
  {
   "cell_type": "code",
   "execution_count": null,
   "id": "400ed12c-39ec-43f1-afb3-fa55fed77eb8",
   "metadata": {},
   "outputs": [],
   "source": [
    "colors = {\"Couple\": \"#007acc\", \n",
    "          \"Single\": \"#f48024\", \n",
    "          \"Family\": \"#4caf50\", \n",
    "          \"Group\": \"#d32f2f\", \n",
    "          \"Other\": \"#8e44ad\"}\n",
    "\n",
    "sns.set_style(\"whitegrid\")\n",
    "\n",
    "plt.figure(figsize=(10,6))\n",
    "sns.lineplot(data=arrival_counts_norm, dashes=False, palette=colors)\n",
    "\n",
    "plt.title(\"Arrival of Different Guest Types Over Months (Normalized)\")\n",
    "plt.xlabel(\"Month\")\n",
    "plt.ylabel(\"Number of Arrivals\")\n",
    "\n",
    "plt.legend(title=\"Guest Type\")\n",
    "\n",
    "plt.savefig('../resources/arrival_by_guest_over_time_norm.png') # Save as PNG Image to resources\n",
    "\n",
    "\n",
    "plt.show()"
   ]
  },
  {
   "cell_type": "code",
   "execution_count": null,
   "id": "593d0520-11de-4b87-8ff5-4c68d0cab527",
   "metadata": {},
   "outputs": [],
   "source": []
  },
  {
   "cell_type": "code",
   "execution_count": null,
   "id": "d302255a-4258-446b-afa0-6b639b8945de",
   "metadata": {},
   "outputs": [],
   "source": []
  },
  {
   "cell_type": "markdown",
   "id": "7bc1785f-bea6-4390-994c-8c8a924f026e",
   "metadata": {},
   "source": [
    "#### 5.2 Average Daily Rate By Customer\n",
    "\n",
    "Average Daily Rate as defined by dividing the sum of all lodging transactions by the total number of staying nights"
   ]
  },
  {
   "cell_type": "code",
   "execution_count": null,
   "id": "0f163262-bf77-4e62-94a2-5d17a6638e9b",
   "metadata": {},
   "outputs": [],
   "source": [
    "adr_guest_type = df_in.groupby(\"guest_type\")[\"adr\"].mean()\n",
    "adr_guest_type"
   ]
  },
  {
   "cell_type": "code",
   "execution_count": null,
   "id": "3bfe1fbe-9f92-45cc-938e-aace6ef7e275",
   "metadata": {},
   "outputs": [],
   "source": [
    "# Visualize ADR by guest type\n",
    "colors = {\"Couple\": \"#007acc\", \n",
    "          \"Single\": \"#f48024\", \n",
    "          \"Family\": \"#4caf50\", \n",
    "          \"Group\": \"#d32f2f\", \n",
    "          \"Other\": \"#8e44ad\"}\n",
    "\n",
    "# Sort Values descending\n",
    "adr_guest_type_sorted = adr_guest_type.sort_values(ascending=False)\n",
    "\n",
    "# Create Dataframe to be able to map the colors to the sorted values\n",
    "adr_guest_type_sorted = adr_guest_type_sorted.to_frame().reset_index()\n",
    "adr_guest_type_sorted['color'] = adr_guest_type_sorted[\"guest_type\"].map(colors)\n",
    "\n",
    "# Create Bar Plot\n",
    "plt.figure(figsize=(10,6))\n",
    "plt.bar(adr_guest_type_sorted[\"guest_type\"], adr_guest_type_sorted[\"adr\"], color=adr_guest_type_sorted[\"color\"])\n",
    "\n",
    "\n",
    "plt.title('ADR by Guest Type')\n",
    "plt.xlabel(\"Guest Type\")\n",
    "plt.ylabel(\"ADR\")\n",
    "\n",
    "plt.tight_layout()\n",
    "\n",
    "plt.savefig('../resources/adr_by_guest.png') # Save as PNG Image to resources\n",
    "\n",
    "plt.show() # Show Graph"
   ]
  },
  {
   "attachments": {},
   "cell_type": "markdown",
   "id": "8ddb6e7a-f3e2-47d1-bb7e-70a739b5dd6b",
   "metadata": {},
   "source": [
    "<b style=\"color:green\"> ADR BY Guest Type - Findings</b></br>\n",
    "\n",
    "- We see differences in the ADR between the different groups\n",
    "      \n",
    "- **Families && Groups**:\n",
    "    - Higher ADR values compared to others -> Willing to spend more\n",
    "    - Due to larger group size or preferences for more costly accomodations\n",
    "\n",
    "\n",
    "- **Couples, Singles and Others**:\n",
    "    - Have a lower ADR with Singles having the lowest ADR\n",
    "    - Singles may tend to more budget-friendly accomodations\n",
    "    - Others define an unkown group with a significant ADR \n",
    "\n",
    "\n"
   ]
  },
  {
   "cell_type": "code",
   "execution_count": null,
   "id": "b0248b43-052d-4eb7-8a9b-c06e2ac40353",
   "metadata": {},
   "outputs": [],
   "source": []
  },
  {
   "cell_type": "markdown",
   "id": "1c63f7cc-84a3-4372-ae08-f9efb556630d",
   "metadata": {},
   "source": [
    "<b style=\"color:green\"> ADR - Reommendations</b></br>\n",
    "\n",
    "- **Tailored Offerings**: Develop tailored offerings for the different groups specifically for the \"Group\" and \"Family\" types to gain from their willingnes to spend more\n",
    "- **Price Optimization**: E.g. Offer special pricing for \"Singles\" or target these groups for sales purposes\n",
    "- **Further Analysis**: Gather further analysis on why the different guest types have different ADRs \n",
    "\n"
   ]
  },
  {
   "cell_type": "code",
   "execution_count": null,
   "id": "fc7892ed-9b86-46b3-8ca6-4743d23d6aac",
   "metadata": {},
   "outputs": [],
   "source": []
  },
  {
   "cell_type": "code",
   "execution_count": null,
   "id": "563edc66-883f-488d-8310-341e0510f98a",
   "metadata": {},
   "outputs": [],
   "source": []
  },
  {
   "cell_type": "markdown",
   "id": "180a6b78-2ae7-453a-af04-70b19e5ca7d3",
   "metadata": {},
   "source": [
    "#### 5.3 Average Daily Rate By Customer Over Time [Months]\n",
    "\n",
    "Average Daily Rate as defined by dividing the sum of all lodging transactions by the total number of staying nights"
   ]
  },
  {
   "cell_type": "code",
   "execution_count": null,
   "id": "7be7905a-538d-47e5-ad8d-9de67f5994d7",
   "metadata": {},
   "outputs": [],
   "source": [
    "df_in.columns"
   ]
  },
  {
   "cell_type": "code",
   "execution_count": null,
   "id": "b42610d8-0e1c-46e8-9474-7c9bfc4804b5",
   "metadata": {},
   "outputs": [],
   "source": [
    "df_in[\"arrival_date_month\"].nunique()"
   ]
  },
  {
   "cell_type": "code",
   "execution_count": null,
   "id": "bac85ea0-ff45-4164-b97c-2663de5d92e1",
   "metadata": {},
   "outputs": [],
   "source": [
    "# Sort data\n",
    "adr_guest_type_date = df_in.sort_values(\"arrival_date_month\")\n",
    "\n",
    "\n",
    "colors = {\"Couple\": \"#007acc\", \n",
    "          \"Single\": \"#f48024\", \n",
    "          \"Family\": \"#4caf50\", \n",
    "          \"Group\": \"#d32f2f\", \n",
    "          \"Other\": \"#8e44ad\"}\n",
    "\n",
    "\n",
    "sns.set_style(\"whitegrid\")\n",
    "\n",
    "plt.figure(figsize=(10,6))\n",
    "sns.lineplot(data=adr_guest_type_date, x=\"arrival_date_month\", y=\"adr\", hue=\"guest_type\", palette=colors)\n",
    "\n",
    "plt.title(\"ADR per Guest Type Over Time [Months]\")\n",
    "plt.xlabel(\"Month\")\n",
    "plt.ylabel(\"ADR\")\n",
    "\n",
    "plt.legend(title=\"Guest Type\")\n",
    "\n",
    "plt.savefig('../resources/adr_per_guest_over_time.png') # Save as PNG Image to resources\n",
    "\n",
    "\n",
    "plt.show()\n"
   ]
  },
  {
   "cell_type": "code",
   "execution_count": null,
   "id": "f149460f-31ea-4bb3-bd0b-03e075d22276",
   "metadata": {},
   "outputs": [],
   "source": []
  },
  {
   "cell_type": "code",
   "execution_count": null,
   "id": "ac6f4ca3-91ca-4473-8585-cd6ba9f5c205",
   "metadata": {},
   "outputs": [],
   "source": []
  },
  {
   "cell_type": "markdown",
   "id": "e59a56cd-cc51-49de-8d14-99247eefc7f8",
   "metadata": {},
   "source": [
    "#### 5.4 Room type preferences By Guest Type"
   ]
  },
  {
   "cell_type": "code",
   "execution_count": null,
   "id": "1a9db3b3-437f-4beb-a938-e7125ad3bf60",
   "metadata": {},
   "outputs": [],
   "source": [
    "# Room Types\n",
    "df_in[\"reserved_room_type\"].unique()"
   ]
  },
  {
   "cell_type": "code",
   "execution_count": null,
   "id": "ebf62bb5-4187-4772-b01d-c5033a96818e",
   "metadata": {
    "scrolled": true
   },
   "outputs": [],
   "source": [
    "room_type_pref = df_in.groupby(\"guest_type\")['reserved_room_type'].value_counts().unstack() # see usntack: 2.3_combining_structuring_data\n",
    "room_type_pref\n",
    "\n",
    "#Normalize (https://stackoverflow.com/questions/52007165/normalizing-rows-of-pandas-dataframe)\n",
    "room_type_pref_norm = room_type_pref.div(room_type_pref.sum(axis=1), axis=0)\n",
    "room_type_pref_norm"
   ]
  },
  {
   "cell_type": "code",
   "execution_count": null,
   "id": "9799126f-75db-45b3-9acf-95d54003dac9",
   "metadata": {},
   "outputs": [],
   "source": [
    "# Visualize room type preference  by guest type\n",
    "\n",
    "room_type_pref_norm.plot(kind='bar', figsize=(10, 6)) # https://stackoverflow.com/questions/11927715/how-to-give-a-pandas-matplotlib-bar-graph-custom-colors\n",
    "plt.title('Room Preferences by Guest Type (Normalized)')\n",
    "plt.xlabel(\"Guest Type\")\n",
    "plt.ylabel(\"Number of Bookings\")\n",
    "plt.legend(title='Room Type', bbox_to_anchor=(1.05, 1), loc='upper left')\n",
    "\n",
    "# Adjust y-axis to better dispaly the lower value bars\n",
    "plt.ylim(0, 1)\n",
    "\n",
    "plt.tight_layout()\n",
    "\n",
    "plt.savefig('../resources/room_type_pref.png') # Save as PNG Image to resources\n",
    "\n",
    "plt.show() # Show Graph"
   ]
  },
  {
   "attachments": {},
   "cell_type": "markdown",
   "id": "b2f92b97-de27-4fec-b991-05d4e253dc73",
   "metadata": {},
   "source": [
    "<b style=\"color:green\"> Room Type Preferences - Findings</b></br>\n",
    "\n",
    "- **Couples**:\n",
    "    - Room Type A is the most preferred among couples, with significantly higher number of bookings compared to other room types.\n",
    "    - Only few bookings for room types \"H\" and \"L\"\n",
    "      \n",
    "- **Families**:\n",
    "    - Room Type A is the most preferred among families, but not as striking. Followed by \"F\" and \"G\"\n",
    "    - There are als few bookings for room types \"H\" and \"L\"\n",
    "      \n",
    " - **Groups**:\n",
    "    - Room Type D is the most preferred among Groups, but not as striking. Followed by \"A\".\n",
    "        - The other room types are insignificant compared to the others\n",
    "\n",
    "- **Others**:\n",
    "    - Rather an insignifcant group -> re-allocate?\n",
    " \n",
    "- **Singles**:\n",
    "    - Room Type A is the most preferred among Groups, with significantly higher number of bookings compared to other room types.\n",
    "    - Followed by \"D\".\n",
    "    - The other room types are insignificant compared to the others\n",
    "\n",
    "\n"
   ]
  },
  {
   "cell_type": "markdown",
   "id": "1af8a7af-e91e-4c40-b78b-ee0aff96281e",
   "metadata": {},
   "source": [
    "<b style=\"color:green\"> Room Type Preferences - Reommendations</b></br>\n",
    "\n",
    "- **Optimize Room Allocation**: Focus availability of preferred room types\n",
    "- **Include Special Promotions**: Offer special promotions or discounts for less popular room types\n",
    "- **Feedback**: Include further investigations on why certain groups prefer certain room types\n",
    "\n"
   ]
  },
  {
   "cell_type": "code",
   "execution_count": null,
   "id": "b7725765-157a-4c6e-b6d1-58b19734f927",
   "metadata": {},
   "outputs": [],
   "source": []
  },
  {
   "cell_type": "code",
   "execution_count": null,
   "id": "ca201207-e03c-4150-80e6-00ac138255d4",
   "metadata": {},
   "outputs": [],
   "source": []
  },
  {
   "cell_type": "markdown",
   "id": "867a0d6d-be12-4fdb-a201-2ff28fc03941",
   "metadata": {},
   "source": [
    "#### 5.5 Meals Package Choice By Guest Type"
   ]
  },
  {
   "cell_type": "code",
   "execution_count": null,
   "id": "456fb978-c650-46a7-bb7e-83553b4666ef",
   "metadata": {},
   "outputs": [],
   "source": [
    "df_in[\"meal\"].unique()"
   ]
  },
  {
   "cell_type": "markdown",
   "id": "ed570bde-691f-4040-951f-2f8f103186e9",
   "metadata": {},
   "source": [
    "**Abbreviations** \n",
    "\n",
    "<a href=\"https://support.travelrepublic.co.uk/Before-I-Book/BIB-Accommodation/1035827372/What-does-the-board-basis-mean.htm\">Hotel Meals Explained</a>\n",
    "\n",
    "- **O** (Room Only): No meals are included.\n",
    "- **SC** (Self Catering): No meals are included; however, your accommodation will be provided with catering facilities for you to cook light meals.\n",
    "- **BB** (Bed and Breakfast): Breakfast is included.\n",
    "- **HB** (Half Board): Breakfast and evening meals are included. In some cases, you can choose to receive lunch instead of breakfast – the hotel will confirm this on arrival.\n",
    "- **FB** (Full Board): Breakfast, lunch and evening meals are included."
   ]
  },
  {
   "cell_type": "code",
   "execution_count": null,
   "id": "83507a51-723a-4bf0-84dc-7c2ac00c2447",
   "metadata": {
    "scrolled": true
   },
   "outputs": [],
   "source": [
    "meal_pref = df_in.groupby(\"guest_type\")[\"meal\"].value_counts().unstack()\n",
    "meal_pref\n",
    "\n",
    "#Normalize (https://stackoverflow.com/questions/52007165/normalizing-rows-of-pandas-dataframe)\n",
    "meal_pref_norm = meal_pref.div(room_type_pref.sum(axis=1), axis=0)\n",
    "meal_pref_norm\n"
   ]
  },
  {
   "cell_type": "code",
   "execution_count": null,
   "id": "3f0638c1-f53d-406a-982b-947e7bf0bd1d",
   "metadata": {},
   "outputs": [],
   "source": [
    "# Visualize meal type preference by guest type\n",
    "\n",
    "meal_pref_norm.plot(kind='bar', figsize=(10, 6)) # https://stackoverflow.com/questions/11927715/how-to-give-a-pandas-matplotlib-bar-graph-custom-colors\n",
    "plt.title('Meal Preferences by Guest Type (Normalized)')\n",
    "plt.xlabel(\"Guest Type\")\n",
    "plt.ylabel(\"Number of Orderings\")\n",
    "plt.legend(title='Meal Type', bbox_to_anchor=(1.05, 1), loc='upper left')\n",
    "\n",
    "# Adjust y-axis to better dispaly the lower value bars\n",
    "plt.ylim(0, 1)\n",
    "\n",
    "plt.tight_layout()\n",
    "\n",
    "plt.savefig('../resources/meal_type_pref.png') # Save as PNG Image to resources\n",
    "\n",
    "plt.show() # Show Graph"
   ]
  },
  {
   "cell_type": "markdown",
   "id": "a205384d-21d3-4ca6-a665-b26a22fe6c2c",
   "metadata": {},
   "source": [
    "<b style=\"color:green\"> Meal Type Preferences - Findings</b></br>\n",
    "\n",
    "- **Bed and Breakfast (BB)**:\n",
    "    - Popular among all guest types, with a significant number of bookings for couples and singles.\n",
    "    - A meal option included seems to be preffered as HB (half )\n",
    "      \n",
    "- **Half Board (HB) and Self-Catering (SC)**:\n",
    "    - Couples show a preference for these meal type, with a significant number of bookings\n",
    "    - Relativle insignificant for other guest types\n",
    "      \n",
    " - **Others**:\n",
    "    - Other meal types are less interesing\n",
    "\n"
   ]
  },
  {
   "cell_type": "markdown",
   "id": "d45efbc0-0f5d-472b-8f6d-e10d3f761d62",
   "metadata": {},
   "source": [
    "<b style=\"color:green\"> Meal Type Preferences - Reommendations</b></br>\n",
    "\n",
    "- **Customization**: Customize meal options or allow for customization options for meal packages\n",
    "- **Promote Meal Packages**: Promote meal packages such as HB or FB to increase revenue\n",
    "- **Feedback**: Include further investigations on why certain groups prefer certain meal types\n"
   ]
  },
  {
   "cell_type": "code",
   "execution_count": null,
   "id": "4c0a6ce9-9725-44bd-974b-21f5e997b20e",
   "metadata": {},
   "outputs": [],
   "source": []
  },
  {
   "cell_type": "code",
   "execution_count": null,
   "id": "fe46bbdd-db94-4e70-9948-ba23ed9b5f77",
   "metadata": {},
   "outputs": [],
   "source": []
  },
  {
   "cell_type": "code",
   "execution_count": null,
   "id": "b03a4fa6-45ae-4f89-b441-ab771bf5ecd6",
   "metadata": {},
   "outputs": [],
   "source": []
  },
  {
   "cell_type": "code",
   "execution_count": null,
   "id": "491f1b5f-6e6f-407c-8fe0-0e298308be38",
   "metadata": {},
   "outputs": [],
   "source": []
  },
  {
   "cell_type": "code",
   "execution_count": null,
   "id": "2f4cac5f-cd5b-4e17-bde5-4365692be3c7",
   "metadata": {},
   "outputs": [],
   "source": []
  },
  {
   "cell_type": "markdown",
   "id": "5b3e27d1-780c-490f-b891-2f789c0de226",
   "metadata": {},
   "source": [
    "#### 5.6 No of special requests by Guest type\n",
    "\n",
    "Number of special requests made by the customer (e.g. twin bed or high floor)"
   ]
  },
  {
   "cell_type": "code",
   "execution_count": null,
   "id": "fa0ada13-1e66-47fd-96ec-f096e2e37da9",
   "metadata": {
    "scrolled": true
   },
   "outputs": [],
   "source": [
    "df[\"total_of_special_requests\"].unique()"
   ]
  },
  {
   "cell_type": "code",
   "execution_count": null,
   "id": "c1699058-8f49-4190-80a6-95873759df1a",
   "metadata": {
    "scrolled": true
   },
   "outputs": [],
   "source": [
    "spec_req = df_in.groupby(\"guest_type\")[\"total_of_special_requests\"].value_counts().unstack()\n",
    "spec_req\n",
    "#Normalize (https://stackoverflow.com/questions/52007165/normalizing-rows-of-pandas-dataframe)\n",
    "spec_req_norm = spec_req.div(spec_req.sum(axis=1), axis=0)\n",
    "\n",
    "spec_req_norm"
   ]
  },
  {
   "cell_type": "code",
   "execution_count": null,
   "id": "f25531e7-65a2-4947-a71b-98c834b5fa82",
   "metadata": {},
   "outputs": [],
   "source": [
    "# Visualize meal type preference by guest type\n",
    "\n",
    "spec_req_norm.plot(kind='bar', figsize=(10, 6)) # https://stackoverflow.com/questions/11927715/how-to-give-a-pandas-matplotlib-bar-graph-custom-colors\n",
    "plt.title('No of Special Requests by Guest Type (Normalized)')\n",
    "plt.xlabel(\"Guest Type\")\n",
    "plt.ylabel(\"Number of Special Requests\")\n",
    "plt.legend(title='No of requests', bbox_to_anchor=(1.05, 1), loc='upper left')\n",
    "\n",
    "# Adjust y-axis to better dispaly the lower value bars\n",
    "plt.ylim(0, 1)\n",
    "\n",
    "plt.tight_layout()\n",
    "\n",
    "plt.savefig('../resources/no_spec_req.png') # Save as PNG Image to resources\n",
    "\n",
    "plt.show() # Show Graph"
   ]
  },
  {
   "cell_type": "code",
   "execution_count": null,
   "id": "2b2c05e8-fc7d-4e05-9d28-c75a73721918",
   "metadata": {},
   "outputs": [],
   "source": []
  },
  {
   "cell_type": "code",
   "execution_count": null,
   "id": "2419752a-fe34-47a8-b9a7-f84ff45c5772",
   "metadata": {},
   "outputs": [],
   "source": []
  },
  {
   "cell_type": "code",
   "execution_count": null,
   "id": "59f66a33-851d-4755-ac99-0ad219bbe859",
   "metadata": {},
   "outputs": [],
   "source": []
  },
  {
   "cell_type": "code",
   "execution_count": null,
   "id": "ba12fe98-a687-4718-94c7-27cf249c1fef",
   "metadata": {},
   "outputs": [],
   "source": []
  },
  {
   "cell_type": "markdown",
   "id": "b71da659-65b7-48d0-baf5-67fc148ff2cb",
   "metadata": {},
   "source": [
    "#### 5.7 Cancellation Rate by Guest Type and Room Type Match\n",
    "\n",
    "The Cancelation Rate is matched to the numbers of matches between reserved rooms and actually assigned rooms."
   ]
  },
  {
   "cell_type": "code",
   "execution_count": null,
   "id": "0398fba3-0e37-4580-851e-d9c7e2c8da29",
   "metadata": {},
   "outputs": [],
   "source": [
    "df[\"booking_changes\"].unique()"
   ]
  },
  {
   "cell_type": "code",
   "execution_count": null,
   "id": "09309f52-0ed0-4e48-bf0d-445a96f0a82b",
   "metadata": {},
   "outputs": [],
   "source": [
    "df[\"days_in_waiting_list\"].unique()"
   ]
  },
  {
   "cell_type": "code",
   "execution_count": null,
   "id": "27101ad7-6ff2-4d20-a080-d620e7c6387e",
   "metadata": {},
   "outputs": [],
   "source": [
    "df[\"reserved_room_type\"].unique()"
   ]
  },
  {
   "cell_type": "code",
   "execution_count": null,
   "id": "31cd0969-e903-4e41-b9df-8262ff2870c4",
   "metadata": {},
   "outputs": [],
   "source": [
    "# Create a new column indicating whether reserved and assigned room types match\n",
    "df_clean['room_type_match'] = (df_clean['reserved_room_type'] == df_clean['assigned_room_type']).astype(int)\n",
    "df_clean['room_type_match']"
   ]
  },
  {
   "cell_type": "code",
   "execution_count": null,
   "id": "15fdf5f7-a051-4df1-9fd5-00d8ccbaa27f",
   "metadata": {},
   "outputs": [],
   "source": [
    "# Calculate the cancellation rate for each combination of room type match and guest type\n",
    "cancellation_rates = df_clean.groupby(['guest_type', 'room_type_match'])['is_canceled'].mean().reset_index()\n",
    "cancellation_rates"
   ]
  },
  {
   "cell_type": "code",
   "execution_count": null,
   "id": "1c5e1f0e-13bc-463e-a32c-192d77640330",
   "metadata": {},
   "outputs": [],
   "source": [
    "# Plot the cancellation rates for each guest type\n",
    "plt.figure(figsize=(12, 8))\n",
    "sns.barplot(data=cancellation_rates, x='guest_type', y='is_canceled', hue='room_type_match', palette='colorblind')\n",
    "plt.title('Cancellation Rate by Guest Type and Room Type Match')\n",
    "plt.xlabel('Guest Type')\n",
    "plt.ylabel('Cancellation Rate')\n",
    "plt.legend(title='Room Type Match', loc='upper right')\n",
    "plt.xticks(rotation=45)\n",
    "\n",
    "plt.savefig('../resources/cancel_rate_room_type_match.png')\n",
    "\n",
    "plt.show()"
   ]
  },
  {
   "cell_type": "code",
   "execution_count": null,
   "id": "ac78b4ba-3ac7-4a33-8d57-66f92150e59a",
   "metadata": {},
   "outputs": [],
   "source": []
  }
 ],
 "metadata": {
  "kernelspec": {
   "display_name": "data_analytics_venv",
   "language": "python",
   "name": "data_analytics_venv"
  },
  "language_info": {
   "codemirror_mode": {
    "name": "ipython",
    "version": 3
   },
   "file_extension": ".py",
   "mimetype": "text/x-python",
   "name": "python",
   "nbconvert_exporter": "python",
   "pygments_lexer": "ipython3",
   "version": "3.11.5"
  }
 },
 "nbformat": 4,
 "nbformat_minor": 5
}
